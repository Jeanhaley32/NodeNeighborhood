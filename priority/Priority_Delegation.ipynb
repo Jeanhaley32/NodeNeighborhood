{
 "cells": [
  {
   "cell_type": "code",
   "execution_count": 197,
   "id": "3cfb84a6",
   "metadata": {},
   "outputs": [],
   "source": [
    "import numpy as np\n",
    "import pandas as pd\n",
    "\n",
    "import datetime\n",
    "import hashlib\n",
    "import json\n",
    "\n",
    "import random\n"
   ]
  },
  {
   "cell_type": "code",
   "execution_count": 198,
   "id": "e186ddd6",
   "metadata": {},
   "outputs": [],
   "source": [
    "def getID(tt,task):\n",
    "    string=tt.__str__()+task['op']+task['node']\n",
    "    m = hashlib.sha1()\n",
    "    m.update(string.encode('utf-8'))\n",
    "    return(m.hexdigest())\n"
   ]
  },
  {
   "cell_type": "code",
   "execution_count": 199,
   "id": "0768d048",
   "metadata": {},
   "outputs": [],
   "source": [
    "def createTask(op,node):\n",
    "    return({'op':op,'node':node})"
   ]
  },
  {
   "cell_type": "code",
   "execution_count": 200,
   "id": "58461502",
   "metadata": {},
   "outputs": [],
   "source": [
    "def createJob(task):\n",
    "    tt=datetime.datetime.now()\n",
    "    return({'id':getID(tt,task),'creation_time':tt,'task':tsk})"
   ]
  },
  {
   "cell_type": "code",
   "execution_count": 49,
   "id": "5cc27fd1",
   "metadata": {},
   "outputs": [
    {
     "data": {
      "text/plain": [
       "{'id': 'db9d5cef8ddc1c8a4d0c7c2b9b72d103881bd9ad',\n",
       " 'creation_time': datetime.datetime(2023, 12, 14, 18, 47, 43, 247554),\n",
       " 'task': {'op': 'CNCT', 'node': '0xf08ce459930dc561ceaa'}}"
      ]
     },
     "execution_count": 49,
     "metadata": {},
     "output_type": "execute_result"
    }
   ],
   "source": [
    "tsk=createTask('CNCT','0xf08ce459930dc561ceaa')\n",
    "createJob(tsk)"
   ]
  },
  {
   "cell_type": "code",
   "execution_count": 53,
   "id": "22b40cb9",
   "metadata": {},
   "outputs": [],
   "source": [
    "dd={'c':3,'d':2,'a':5,'b':4,'e':1}"
   ]
  },
  {
   "cell_type": "code",
   "execution_count": 54,
   "id": "69c23cf6",
   "metadata": {},
   "outputs": [
    {
     "data": {
      "text/plain": [
       "['a', 'b', 'c', 'd', 'e']"
      ]
     },
     "execution_count": 54,
     "metadata": {},
     "output_type": "execute_result"
    }
   ],
   "source": [
    "sorted(dd)"
   ]
  },
  {
   "cell_type": "code",
   "execution_count": 201,
   "id": "3ed0a644",
   "metadata": {},
   "outputs": [],
   "source": [
    "#################################################################################################################\n",
    "# Delegator node events:\n",
    "#        creation -  when a node is added to thew priority list (or readded after being deleted)\n",
    "#        connection -  when a worker is assigned a 'CNCT' job to the node and the job is completed\n",
    "#        pong - when a node appears in the list of neighbors returned from a 'CNCT' job for a different node\n",
    "#################################################################################################################\n",
    "\n",
    "class Node:\n",
    "\n",
    "    def __init__(self,nodeDoc):\n",
    "        tt=datetime.datetime.now()\n",
    "        ut=datetime.datetime.timestamp(tt)\n",
    "        self.id=nodeDoc['id']\n",
    "        self.doc=nodeDoc\n",
    "        self.creation=ut\n",
    "        self.last_connect=None\n",
    "        self.last_pong=ut\n",
    "        self.priority=ut\n",
    "        return\n",
    "    \n",
    "    \n",
    "    def connect(self):\n",
    "        tt=datetime.datetime.now()\n",
    "        ut=datetime.datetime.timestamp(tt)\n",
    "        self.last_connect=ut\n",
    "        self.priority=ut\n",
    "        return\n",
    "        \n",
    "    def pong(self):\n",
    "        tt=datetime.datetime.now()\n",
    "        ut=datetime.datetime.timestamp(tt)\n",
    "        self.last_pong=ut\n",
    "        self.priority=0.7*ut+0.3*self.priority  # (ut-self.priority)*0.7+self.priority\n",
    "        return\n",
    "    \n",
    "    def __str__(self):\n",
    "        return(json.dumps(self.doc)+'--'+self.priority.__str__()+'--'+self.last_pong.__str__()+'--'+self.last_connect.__str__())\n",
    "    \n",
    "    def __json__(self):\n",
    "        return(self.doc)"
   ]
  },
  {
   "cell_type": "code",
   "execution_count": 104,
   "id": "70b048da",
   "metadata": {},
   "outputs": [],
   "source": [
    "class NodeList:\n",
    "    \n",
    "    def __init__(self,len):\n",
    "        self.nodeList={}\n",
    "        self.len=MAX_LENGTH\n",
    "        return\n",
    "    \n",
    "    def insert(node):\n",
    "        self.nodeList[node.id]=node\n",
    "        return\n",
    "    \n",
    "    def remove(nid):\n",
    "        del(self.nodeList[nid])\n",
    "        \n",
    "    def updateNode(nid,update):\n",
    "        if update='CNCT':\n",
    "            self.nodeList[node.id].connect()\n",
    "        elif update='PONG':\n",
    "            self.nodeList[node.id].pong()\n",
    "        else:\n",
    "            raise Exception(\"Unknown update\")\n",
    "        return\n",
    "\n",
    "    def pull(self,end):\n",
    "        tmp={node.priority:node.id for node in self.nodeList}\n",
    "        if end='head':\n",
    "            nid=self.nodeList[min(self.nodeList)]\n",
    "        elif end='tail':\n",
    "            nid=self.nodeList[max(self.nodeList)]\n",
    "        node=self.nodeList[nid]\n",
    "        self.removeNode(nid)\n",
    "        return(node)\n",
    "        \n",
    "    def showPriority(self):\n",
    "        tmp={node.priority:node.id for node in self.nodeList}\n",
    "        return(tmp)\n"
   ]
  },
  {
   "cell_type": "code",
   "execution_count": 114,
   "id": "bbcd0b51",
   "metadata": {},
   "outputs": [
    {
     "name": "stdout",
     "output_type": "stream",
     "text": [
      "{0.1: 2, 0.2: 3, 0.4: 4, 0.7: 5, 0.9: 1}\n",
      "{0.1: 2, 0.2: 3, 0.7: 5, 0.9: 1}\n"
     ]
    }
   ],
   "source": [
    "ll={0.1:2,0.2:3,0.4:4,0.7:5,0.9:1}\n",
    "print(ll)\n",
    "del(ll[0.4])\n",
    "print(ll)"
   ]
  },
  {
   "cell_type": "code",
   "execution_count": 115,
   "id": "639f2d2f",
   "metadata": {},
   "outputs": [
    {
     "data": {
      "text/plain": [
       "0.9"
      ]
     },
     "execution_count": 115,
     "metadata": {},
     "output_type": "execute_result"
    }
   ],
   "source": [
    "max(ll)"
   ]
  },
  {
   "cell_type": "code",
   "execution_count": 251,
   "id": "7b966f64",
   "metadata": {},
   "outputs": [],
   "source": [
    "#################################################################################################################\n",
    "#   Generating a random network\n",
    "#################################################################################################################\n",
    "\n",
    "def randomId():\n",
    "    tt=random.randint(0,10000)\n",
    "    string=tt.__str__()\n",
    "    m = hashlib.sha1()\n",
    "    m.update(string.encode('utf-8'))\n",
    "    return('0x'+m.hexdigest()[:20])\n",
    "\n",
    "def randomCity():\n",
    "    Cities=['Kabul','Herat','Mazar-i-Sharif','Kandahar','Jalalabad','Lashkargah','Kunduz','Taloqan','Puli Khumri',\\\n",
    "     'Sheberghan','Zaranj','Maymana','Ghazni','Khost','Charikar','Fayzabad','Tarinkot','Gardez']\n",
    "    return(random.choice(Cities))\n",
    "\n",
    "def generateNode():\n",
    "    return({'id':randomId(),'loc':randomCity(),'neigh':[]})\n",
    "\n",
    "\n",
    "def generateNeigh(Vid):\n",
    "    nn=random.randint(0,min([20,len(Vid)]))\n",
    "    neigh=set([random.choice(Vid) for ii in range(nn)])\n",
    "    return(neigh)\n",
    "\n",
    "def generateNetwork(nsize):\n",
    "    V=[generateNode() for ii in range(nsize)]\n",
    "    Vp={nn['id']:nn for nn in V}\n",
    "    Vid=[nn['id'] for nn in V]\n",
    "    for nn in V:\n",
    "        rneigh=generateNeigh(Vid)-set([nn['id']])\n",
    "        nn['neigh']=list(rneigh|set(nn['neigh']))\n",
    "        for ii in rneigh:\n",
    "            if not nn['id'] in Vp[ii]['neigh']:\n",
    "                Vp[ii]['neigh'].append(nn['id'])\n",
    "    return(Vp)\n"
   ]
  },
  {
   "cell_type": "code",
   "execution_count": 260,
   "id": "4c072fa7",
   "metadata": {},
   "outputs": [
    {
     "data": {
      "text/plain": [
       "{'0x045d84a9fadcd7ae5582': {'id': '0x045d84a9fadcd7ae5582',\n",
       "  'loc': 'Charikar',\n",
       "  'neigh': ['0xa5cc040dbb73e42ac7a1',\n",
       "   '0xf25cbb01e86180748a0f',\n",
       "   '0xa2bc9c82e25301900618',\n",
       "   '0x6337fd63957907483264',\n",
       "   '0x47a78cc892e29d89a7ab',\n",
       "   '0x78b6e7d58093116dc475',\n",
       "   '0xf1191008e7f0422a574c',\n",
       "   '0x8b69f46dcd8c17b4fa15',\n",
       "   '0x6940cc8da791bf12d7c8',\n",
       "   '0xe4fec7c72e63a47d1de6',\n",
       "   '0x2c2c56a113fde28bd291',\n",
       "   '0xc5946a06ef091106692f',\n",
       "   '0x12d9b057114a5b072df2',\n",
       "   '0x52dc2eec697d9b81d823',\n",
       "   '0x92f2fd99879b0c2466ab',\n",
       "   '0x2a94b50a655ce6b38f78',\n",
       "   '0x0da8cbc894c3e556a242',\n",
       "   '0xd0bb2479acb9c85f83df',\n",
       "   '0x93acc66a6e5f774385d4',\n",
       "   '0x28e238f17a59ae02e306',\n",
       "   '0xfc5dde654b1d78f421f8',\n",
       "   '0xc8589da1ade1fe6e8cda']},\n",
       " '0xf8afd0c8400233e0ab7a': {'id': '0xf8afd0c8400233e0ab7a',\n",
       "  'loc': 'Charikar',\n",
       "  'neigh': ['0x2da8dade355cc4b0b359',\n",
       "   '0x2a5a8b131bc31e96ca6f',\n",
       "   '0xb4581a839e2e5344ac0c',\n",
       "   '0x7a4375a1fed653e13860',\n",
       "   '0x80b7f06dd0f122cb610c',\n",
       "   '0xdf93151d1f40e8349efc',\n",
       "   '0x76e14d2b128dec91b6e2',\n",
       "   '0x2aeb4fc36977d9f4cba0',\n",
       "   '0x5832a25973c7a9a28b77',\n",
       "   '0xc42534dd82b562d84b94',\n",
       "   '0xd36550fc4422fde2c3bb',\n",
       "   '0x88134759aa60fec60ecf',\n",
       "   '0x3fc08852ebb121a140b4',\n",
       "   '0xfcd8b5b9ecb89e65d565',\n",
       "   '0x3d5bdf107de596ce77e8',\n",
       "   '0x9f5b0793b0cbfcf25d48',\n",
       "   '0xdda550c642277fbe0704',\n",
       "   '0xad03acdbc8424b19ed0d',\n",
       "   '0x62d4ddd3d161eaaa3ccd',\n",
       "   '0x3465920669b16348cbaf',\n",
       "   '0xefa50cd37d9191eb73e6',\n",
       "   '0x268d2b8c52c20143354c',\n",
       "   '0xb6e2efd8ffb991dd3ea0',\n",
       "   '0x830f26a7c080db30e813',\n",
       "   '0x65a58e108b8bee6efc51',\n",
       "   '0xf82d546c3e121366f53d',\n",
       "   '0x45b9f0e0d41f9e4b8505',\n",
       "   '0x4f5be2a329860dd838c0',\n",
       "   '0x3c2675338c88905be532',\n",
       "   '0x8deda5a8117c871c8fb9',\n",
       "   '0x9e806534d3f7219c5dcb',\n",
       "   '0x0caf0004e96014c80352',\n",
       "   '0x47c5c6f332aa2d927a70']},\n",
       " '0xa523c283b9ba4a17676d': {'id': '0xa523c283b9ba4a17676d',\n",
       "  'loc': 'Gardez',\n",
       "  'neigh': ['0xd02052433e9832695504',\n",
       "   '0x692158e380683c0bc6bf',\n",
       "   '0xdd13950d1ef5807c6d07',\n",
       "   '0xdc5a02ad7c6cc4b77e93',\n",
       "   '0x2c4a265729156d471e3f',\n",
       "   '0x99b0cd0c2c548f642d9e',\n",
       "   '0xfc15481319490c30a42e',\n",
       "   '0xde1f411e661af9b1e6ec',\n",
       "   '0x28aec0835bc67bed63d3',\n",
       "   '0x879a7b46db6001bb7c1a',\n",
       "   '0x929e178a707b35cd4c72',\n",
       "   '0xe7f22d10fb3eeebb7ffc',\n",
       "   '0xc42bbfcf09765300b488',\n",
       "   '0xdb62a706088db6124fbe',\n",
       "   '0xd5e30c2fcb5fb8a71fa2',\n",
       "   '0xd7c1f0dd609c0024d00c',\n",
       "   '0xb832ac198bf0b32d3742',\n",
       "   '0x6179c09def817fbf7f47',\n",
       "   '0x10b96900541e13c20706',\n",
       "   '0x91ea14e6f9df9b906f4d',\n",
       "   '0xe8fda30bad5b009c0eb4',\n",
       "   '0xc5fe33451686d44778a5',\n",
       "   '0x115c5615e2e7188b563f',\n",
       "   '0xa2dc700062217b063b1f',\n",
       "   '0xb567e1aae66398cae610',\n",
       "   '0x3be96b28296b01c9938c',\n",
       "   '0x838ab2376ca62b79a880',\n",
       "   '0xb1791a1190d20001459b',\n",
       "   '0xb219c7efbf18abc39cf4',\n",
       "   '0x2524f7933ab692a4d7d4',\n",
       "   '0xf4807e7bc0ab85a61203',\n",
       "   '0xb5d51df3594cd812f73f',\n",
       "   '0x5e480ff0f88a8f522a1b',\n",
       "   '0xd88fba4fd22ef960a506',\n",
       "   '0x89618affc034a9a326e0',\n",
       "   '0xd06b6c54863ac33d1241',\n",
       "   '0xdf4ccf660d92878bd9e4',\n",
       "   '0x245978ceff912a2f6539',\n",
       "   '0x3d5bdf107de596ce77e8']},\n",
       " '0xf49f2804c791e9d90f5c': {'id': '0xf49f2804c791e9d90f5c',\n",
       "  'loc': 'Kunduz',\n",
       "  'neigh': ['0x5f17af19d69540aa3c0c',\n",
       "   '0xf673929b7ae05128dd47',\n",
       "   '0x6b0f4d999089662690c5',\n",
       "   '0xf88269a2d0ad75d2ed6a',\n",
       "   '0xa1f05288f185a49dd648',\n",
       "   '0xa650c2bbb7083a9cdc79',\n",
       "   '0x838ce8f3fe194fa670d1',\n",
       "   '0x24cd63144a915209ec5d',\n",
       "   '0xd3cce3cd96bd14201115',\n",
       "   '0x6c4664e481293423719a',\n",
       "   '0x858011a0f35faf85ad57',\n",
       "   '0x4d89d294cd4ca9f2ca57',\n",
       "   '0x0a99f44bcfa3f54e543b',\n",
       "   '0xee02c29275e85aedd7d9',\n",
       "   '0x318c2de5adad5fc591ad',\n",
       "   '0x52dc2eec697d9b81d823',\n",
       "   '0x56cfa95a090e34f48535',\n",
       "   '0xa3435c37dd23c9c37f72',\n",
       "   '0x31bd9b9f5f7b338e41b5',\n",
       "   '0xb49a202cd695007ac4a3',\n",
       "   '0xdcd07aec8a3d7cbec399',\n",
       "   '0x7f03f3f2febc46f3fa83',\n",
       "   '0x418b89e27b617a792dfb',\n",
       "   '0xb0458b356240d1d1f4c2',\n",
       "   '0xd566dce13cebefa2c17e',\n",
       "   '0x63843e04b0f7a32d9453',\n",
       "   '0x17551b0ebe8b49169ec6',\n",
       "   '0x5d719d50174347bbb6a7',\n",
       "   '0xd8203916ff75b78e1e1d',\n",
       "   '0x8ff080f8aba1bd4557bf',\n",
       "   '0x30c42489776bc0da0a78',\n",
       "   '0xd04133bd840b69ee1554',\n",
       "   '0x3e65f84cccbd3f2d1060',\n",
       "   '0x3abb2c704de83074078d',\n",
       "   '0x3bf010eee3e3ac4b55f9',\n",
       "   '0x7f1231b9ebb0a67ad400',\n",
       "   '0x8d87e825f300530dc4b7',\n",
       "   '0xdd68e246ab85c7149424',\n",
       "   '0xa884aaa2398d01cea064',\n",
       "   '0x1966e694bad90686516f',\n",
       "   '0x65f40c35951d7d0091c8',\n",
       "   '0x9366fd51e17e65e8d9a6',\n",
       "   '0x7919ae519f96a6645a56',\n",
       "   '0xcc6f6ede7b271915dba0',\n",
       "   '0x1b00353223c923a516e8',\n",
       "   '0x4529e1a17f7d2399fc1f',\n",
       "   '0xe6cf671512ccc4f8cf3c']},\n",
       " '0x857b78b207b9552985d7': {'id': '0x857b78b207b9552985d7',\n",
       "  'loc': 'Maymana',\n",
       "  'neigh': ['0x0bf87f140a7d51f599f9',\n",
       "   '0xd5994392309568496b6a',\n",
       "   '0xb7f5113f83376fc4334a',\n",
       "   '0x1d3c18731377b3a74610',\n",
       "   '0x042cdc2b69eaabbfbbe2',\n",
       "   '0x527380be332355ad84c2',\n",
       "   '0x1ab1a2fda4a8bf1ca36f',\n",
       "   '0x689a93dc62f20464ceb7',\n",
       "   '0xfc7a734dba518f032608',\n",
       "   '0x1ab7092248f07fa97e97',\n",
       "   '0xd528edaa45e66e08a9ec',\n",
       "   '0x129629539ae5981a45a6',\n",
       "   '0x07838055f778941ce77b',\n",
       "   '0x83a08a7fdc4059c7ac2e',\n",
       "   '0x1dd100f28e3ef97a6732',\n",
       "   '0x7320828c9153b2a9848d',\n",
       "   '0xca5a2b4e240cd173304d',\n",
       "   '0xd11bb22d7be8b315ef79',\n",
       "   '0xd69729e9779952a73e8e',\n",
       "   '0xaa4b27d555e488b85795',\n",
       "   '0x308e33425661b30890d3',\n",
       "   '0x03964a8eff713a1b46be',\n",
       "   '0x0c1240071a8b9be51373',\n",
       "   '0x1ae680509910ed972655',\n",
       "   '0x2a5a8b131bc31e96ca6f',\n",
       "   '0xfda4df15eb473861c82a',\n",
       "   '0x111e164fbf3f3601cc89']}}"
      ]
     },
     "execution_count": 260,
     "metadata": {},
     "output_type": "execute_result"
    }
   ],
   "source": [
    "nwk=generateNetwork(10000)\n",
    "{ii:nwk[ii] for ii in list(nwk.keys())[3448:3453]}\n",
    "#nwk"
   ]
  },
  {
   "cell_type": "code",
   "execution_count": null,
   "id": "30297b23",
   "metadata": {},
   "outputs": [],
   "source": []
  }
 ],
 "metadata": {
  "kernelspec": {
   "display_name": "Python 3 (ipykernel)",
   "language": "python",
   "name": "python3"
  },
  "language_info": {
   "codemirror_mode": {
    "name": "ipython",
    "version": 3
   },
   "file_extension": ".py",
   "mimetype": "text/x-python",
   "name": "python",
   "nbconvert_exporter": "python",
   "pygments_lexer": "ipython3",
   "version": "3.8.16"
  }
 },
 "nbformat": 4,
 "nbformat_minor": 5
}
