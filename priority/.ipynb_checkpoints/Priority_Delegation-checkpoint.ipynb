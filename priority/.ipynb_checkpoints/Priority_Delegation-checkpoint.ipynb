{
 "cells": [
  {
   "cell_type": "code",
   "execution_count": 116,
   "id": "71866e10",
   "metadata": {},
   "outputs": [],
   "source": [
    "import numpy as np\n",
    "import pandas as pd\n",
    "\n",
    "import datetime\n",
    "import hashlib\n",
    "import json"
   ]
  },
  {
   "cell_type": "code",
   "execution_count": 46,
   "id": "f7d74ce1",
   "metadata": {},
   "outputs": [],
   "source": [
    "def getID(tt,task):\n",
    "    string=tt.__str__()+task['op']+task['node']\n",
    "    m = hashlib.sha1()\n",
    "    m.update(string.encode('utf-8'))\n",
    "    return(m.hexdigest())\n"
   ]
  },
  {
   "cell_type": "code",
   "execution_count": 32,
   "id": "bc902111",
   "metadata": {},
   "outputs": [],
   "source": [
    "def createTask(op,node):\n",
    "    return({'op':op,'node':node})"
   ]
  },
  {
   "cell_type": "code",
   "execution_count": 48,
   "id": "1dfaa777",
   "metadata": {},
   "outputs": [],
   "source": [
    "def createJob(task):\n",
    "    tt=datetime.datetime.now()\n",
    "    return({'id':getID(tt,task),'creation_time':tt,'task':tsk})"
   ]
  },
  {
   "cell_type": "code",
   "execution_count": 49,
   "id": "32c090b0",
   "metadata": {},
   "outputs": [
    {
     "data": {
      "text/plain": [
       "{'id': 'db9d5cef8ddc1c8a4d0c7c2b9b72d103881bd9ad',\n",
       " 'creation_time': datetime.datetime(2023, 12, 14, 18, 47, 43, 247554),\n",
       " 'task': {'op': 'CNCT', 'node': '0xf08ce459930dc561ceaa'}}"
      ]
     },
     "execution_count": 49,
     "metadata": {},
     "output_type": "execute_result"
    }
   ],
   "source": [
    "tsk=createTask('CNCT','0xf08ce459930dc561ceaa')\n",
    "createJob(tsk)"
   ]
  },
  {
   "cell_type": "code",
   "execution_count": 53,
   "id": "5ab2681f",
   "metadata": {},
   "outputs": [],
   "source": [
    "dd={'c':3,'d':2,'a':5,'b':4,'e':1}"
   ]
  },
  {
   "cell_type": "code",
   "execution_count": 54,
   "id": "276b72fc",
   "metadata": {},
   "outputs": [
    {
     "data": {
      "text/plain": [
       "['a', 'b', 'c', 'd', 'e']"
      ]
     },
     "execution_count": 54,
     "metadata": {},
     "output_type": "execute_result"
    }
   ],
   "source": [
    "sorted(dd)"
   ]
  },
  {
   "cell_type": "code",
   "execution_count": 119,
   "id": "a91ebf02",
   "metadata": {},
   "outputs": [],
   "source": [
    "# Delegator node events:\n",
    "#        creation -  when a node is added to thew priority list (or readded after being deleted)\n",
    "#        connection -  when a worker is assigned a 'CNCT' job to the node and the job is completed\n",
    "#        pong - when a node appears in the list of neighbors returned from a 'CNCT' job for a different node\n",
    "\n",
    "class Node:\n",
    "\n",
    "    def __init__(self,nodeDoc):\n",
    "        tt=datetime.datetime.now()\n",
    "        ut=datetime.datetime.timestamp(tt)\n",
    "        self.id=nodeDoc['id']\n",
    "        self.doc=nodeDoc\n",
    "        self.creation=ut\n",
    "        self.last_connect=None\n",
    "        self.last_pong=ut\n",
    "        self.priority=ut\n",
    "        return\n",
    "    \n",
    "    \n",
    "    def connect(self):\n",
    "        tt=datetime.datetime.now()\n",
    "        ut=datetime.datetime.timestamp(tt)\n",
    "        self.last_connect=ut\n",
    "        self.priority=ut\n",
    "        return\n",
    "        \n",
    "    def pong(self):\n",
    "        tt=datetime.datetime.now()\n",
    "        ut=datetime.datetime.timestamp(tt)\n",
    "        self.last_pong=ut\n",
    "        self.priority=0.7*ut+0.3*self.priority  # (ut-self.priority)*0.7+self.priority\n",
    "        return\n",
    "    \n",
    "    def __str__(self):\n",
    "        return(json.dumps(self.doc)+'--'+self.priority.__str__()+'--'+self.last_pong.__str__()+'--'+self.last_connect.__str__())\n",
    "    \n",
    "    def __json__(self):\n",
    "        return(self.doc)"
   ]
  },
  {
   "cell_type": "code",
   "execution_count": 121,
   "id": "6d3efc02",
   "metadata": {},
   "outputs": [
    {
     "name": "stdout",
     "output_type": "stream",
     "text": [
      "{\"id\": \"0xf08ce459930dc561ceaa\", \"loc\": \"Kandahar\"}--1702638562.54745--1702638562.54745--None\n"
     ]
    }
   ],
   "source": [
    "nn=Node({'id':'0xf08ce459930dc561ceaa','loc':'Kandahar'})\n",
    "print(nn)"
   ]
  },
  {
   "cell_type": "code",
   "execution_count": 122,
   "id": "3cec247f",
   "metadata": {},
   "outputs": [
    {
     "name": "stdout",
     "output_type": "stream",
     "text": [
      "{\"id\": \"0xf08ce459930dc561ceaa\", \"loc\": \"Kandahar\"}--1702638568.623258--1702638562.54745--1702638568.623258\n"
     ]
    }
   ],
   "source": [
    "nn.connect()\n",
    "print(nn)"
   ]
  },
  {
   "cell_type": "code",
   "execution_count": 123,
   "id": "0261b169",
   "metadata": {},
   "outputs": [
    {
     "name": "stdout",
     "output_type": "stream",
     "text": [
      "{\"id\": \"0xf08ce459930dc561ceaa\", \"loc\": \"Kandahar\"}--1702638570.1781898--1702638570.844589--1702638568.623258\n"
     ]
    }
   ],
   "source": [
    "nn.pong()\n",
    "print(nn)"
   ]
  },
  {
   "cell_type": "code",
   "execution_count": 104,
   "id": "acb13781",
   "metadata": {},
   "outputs": [],
   "source": [
    "class NodeList:\n",
    "    \n",
    "    def __init__(self):\n",
    "        self.nodeList={}\n",
    "        return\n",
    "    \n",
    "    def addNode(node):\n",
    "        self.nodeList[node.id]=node\n",
    "        return\n",
    "    \n",
    "    def removeNode(nid):\n",
    "        del(self.nodeList[nid])\n",
    "        \n",
    "    def updateNode(nid,update):\n",
    "        if update='CNCT':\n",
    "            self.nodeList[node.id].connect()\n",
    "        elif update='PONG':\n",
    "            self.nodeList[node.id].pong()\n",
    "        else:\n",
    "            raise Exception(\"Unknown update\")\n",
    "        return\n",
    "\n",
    "    def pop(self):\n",
    "        tmp={node.priority:node.id for node in self.nodeList}\n",
    "        nid=self.nodeList[min(self.nodeList)]\n",
    "        node=self.nodeList[nid]\n",
    "        self.removeNode(nid)\n",
    "        return(node)\n",
    "        \n",
    "    def showPriority(self):\n",
    "        tmp={node.priority:node.id for node in self.nodeList}\n",
    "        return(tmp)\n"
   ]
  },
  {
   "cell_type": "code",
   "execution_count": 114,
   "id": "b75c58d1",
   "metadata": {},
   "outputs": [
    {
     "name": "stdout",
     "output_type": "stream",
     "text": [
      "{0.1: 2, 0.2: 3, 0.4: 4, 0.7: 5, 0.9: 1}\n",
      "{0.1: 2, 0.2: 3, 0.7: 5, 0.9: 1}\n"
     ]
    }
   ],
   "source": [
    "ll={0.1:2,0.2:3,0.4:4,0.7:5,0.9:1}\n",
    "print(ll)\n",
    "del(ll[0.4])\n",
    "print(ll)"
   ]
  },
  {
   "cell_type": "code",
   "execution_count": 115,
   "id": "575166f6",
   "metadata": {},
   "outputs": [
    {
     "data": {
      "text/plain": [
       "0.9"
      ]
     },
     "execution_count": 115,
     "metadata": {},
     "output_type": "execute_result"
    }
   ],
   "source": [
    "max(ll)"
   ]
  },
  {
   "cell_type": "code",
   "execution_count": null,
   "id": "1c7ef3a4",
   "metadata": {},
   "outputs": [],
   "source": []
  }
 ],
 "metadata": {
  "kernelspec": {
   "display_name": "Python 3 (ipykernel)",
   "language": "python",
   "name": "python3"
  },
  "language_info": {
   "codemirror_mode": {
    "name": "ipython",
    "version": 3
   },
   "file_extension": ".py",
   "mimetype": "text/x-python",
   "name": "python",
   "nbconvert_exporter": "python",
   "pygments_lexer": "ipython3",
   "version": "3.8.16"
  }
 },
 "nbformat": 4,
 "nbformat_minor": 5
}
